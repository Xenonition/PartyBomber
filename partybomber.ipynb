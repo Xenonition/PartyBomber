{
 "cells": [
  {
   "cell_type": "code",
   "execution_count": 1,
   "id": "f8725678",
   "metadata": {},
   "outputs": [],
   "source": [
    "import re\n",
    "import random\n",
    "import time\n",
    "from selenium import webdriver\n",
    "from selenium.webdriver.common.keys import Keys\n",
    "from selenium.webdriver.common.by import By\n",
    "from selenium.webdriver.support import expected_conditions as EC\n",
    "from selenium.webdriver.support.ui import WebDriverWait\n",
    "\n",
    "driver = webdriver.Chrome()\n",
    "driver.get(\"https://jklm.fun/MYXE\")"
   ]
  },
  {
   "cell_type": "code",
   "execution_count": 2,
   "id": "77e8ffdd",
   "metadata": {},
   "outputs": [],
   "source": [
    "#Prep\n",
    "\n",
    "with open('dict.txt') as f:\n",
    "    lines = f.readlines()\n",
    "\n",
    "dictionary = [line.replace('\\n','') for line in lines]"
   ]
  },
  {
   "cell_type": "code",
   "execution_count": 3,
   "id": "fc5d29a0",
   "metadata": {},
   "outputs": [],
   "source": [
    "#Join Game\n",
    "username = \"Hamuel\"\n",
    "searchBox = driver.find_element(By.CLASS_NAME, \"styled.nickname\")\n",
    "searchBox.clear()\n",
    "searchBox.send_keys(username)\n",
    "\n",
    "joinButton = driver.find_element(By.XPATH, '//button[text()=\"OK\"]')\n",
    "joinButton.click()"
   ]
  },
  {
   "cell_type": "code",
   "execution_count": 4,
   "id": "d711ed90",
   "metadata": {},
   "outputs": [],
   "source": [
    "driver.switch_to.frame(driver.find_element(By.XPATH, '//iframe'))"
   ]
  },
  {
   "cell_type": "code",
   "execution_count": 6,
   "id": "39de41c7",
   "metadata": {
    "scrolled": false
   },
   "outputs": [],
   "source": [
    "while True:\n",
    "    if driver.find_element(By.CLASS_NAME, 'lastRound').is_displayed():\n",
    "        break\n",
    "    try:\n",
    "        wait = WebDriverWait(driver, 10)\n",
    "        element = wait.until(EC.invisibility_of_element_located((By.XPATH, '//span[@class=\"player\"]')))\n",
    "        pattern = driver.find_element(By.CLASS_NAME, 'syllable').text\n",
    "        tries = 0\n",
    "        for word in dictionary:\n",
    "            word = random.choice(dictionary)\n",
    "            if (pattern in word) and (pattern != ''):\n",
    "                answerBox = driver.find_element(By.XPATH, '//input[@maxlength=\"30\"]')\n",
    "                answerBox.clear()\n",
    "                answerBox.send_keys(word)\n",
    "                answerBox.send_keys(Keys.ENTER)\n",
    "                time.sleep(0.5)\n",
    "                if pattern != driver.find_element(By.CLASS_NAME, 'syllable').text:\n",
    "                    break\n",
    "                if driver.find_element(By.XPATH, '//span[@class=\"player\"]').text != '':\n",
    "                    break\n",
    "                dictionary.remove(word)\n",
    "    except:\n",
    "        pass"
   ]
  },
  {
   "cell_type": "code",
   "execution_count": null,
   "id": "b1ea5f3d",
   "metadata": {},
   "outputs": [],
   "source": []
  }
 ],
 "metadata": {
  "kernelspec": {
   "display_name": "Python 3 (ipykernel)",
   "language": "python",
   "name": "python3"
  },
  "language_info": {
   "codemirror_mode": {
    "name": "ipython",
    "version": 3
   },
   "file_extension": ".py",
   "mimetype": "text/x-python",
   "name": "python",
   "nbconvert_exporter": "python",
   "pygments_lexer": "ipython3",
   "version": "3.9.12"
  }
 },
 "nbformat": 4,
 "nbformat_minor": 5
}
